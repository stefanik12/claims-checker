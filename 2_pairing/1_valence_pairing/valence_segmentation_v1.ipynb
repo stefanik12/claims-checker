{
 "cells": [
  {
   "cell_type": "code",
   "execution_count": 1,
   "metadata": {},
   "outputs": [
    {
     "name": "stdout",
     "output_type": "stream",
     "text": [
      "Line '\n",
      "' can not be parsed. Skipping.\n"
     ]
    }
   ],
   "source": [
    "bodies = dict()\n",
    "with open(\"/home/xstefan3/bert_experiments/pytorch/cc/crawl/body_aggregated.txt\", \"r\") as bodies_f:\n",
    "    for line in bodies_f.readlines():\n",
    "        linestart_str = line.split(\"\\t\")[0].replace(\" \", \"\").replace(\"\\t\", \"\").strip()\n",
    "        try:\n",
    "            i = int(linestart_str)\n",
    "            bodies[i] = \"\\n\".join(line.split(\"\\t\")[1:])\n",
    "        except ValueError:\n",
    "            # entry contains '\\n' - still belongs to the previous entry\n",
    "            try:\n",
    "                bodies[i] += \"\\n%s\" % line   \n",
    "            except (KeyError, NameError):\n",
    "                print(\"Line '%s' can not be parsed. Skipping.\" % line)"
   ]
  },
  {
   "cell_type": "code",
   "execution_count": 2,
   "metadata": {},
   "outputs": [],
   "source": [
    "import pandas as pd\n",
    "bodies_s = pd.Series(bodies)"
   ]
  },
  {
   "cell_type": "code",
   "execution_count": 3,
   "metadata": {},
   "outputs": [
    {
     "name": "stderr",
     "output_type": "stream",
     "text": [
      "/home/xstefan3/anaconda3/lib/python3.7/site-packages/ipykernel_launcher.py:6: FutureWarning: \n",
      "Passing list-likes to .loc or [] with any missing label will raise\n",
      "KeyError in the future, you can use .reindex() as an alternative.\n",
      "\n",
      "See the documentation here:\n",
      "https://pandas.pydata.org/pandas-docs/stable/indexing.html#deprecate-loc-reindex-listlike\n",
      "  \n"
     ]
    }
   ],
   "source": [
    "import pandas as pd\n",
    "df = pd.read_csv(\"/home/xstefan3/bert_experiments/pytorch/cc/crawl/news_aggregator/newsCorpora.csv\", \n",
    "                 sep=\"\\t\", names=[\"ID\", \"TITLE\", \"URL\", \"PUBLISHER\", \"CATEGORY\", \"STORY\", \"HOSTNAME\", \"TIMESTAMP\"])\n",
    "df = df.set_index(\"ID\", drop=True)\n",
    "# limit to the already crawled content\n",
    "df = df.loc[bodies_s.index]\n",
    "df[\"content\"] = bodies_s"
   ]
  },
  {
   "cell_type": "code",
   "execution_count": 4,
   "metadata": {},
   "outputs": [
    {
     "name": "stderr",
     "output_type": "stream",
     "text": [
      "[nltk_data] Downloading package punkt to /home/xstefan3/nltk_data...\n",
      "[nltk_data]   Package punkt is already up-to-date!\n"
     ]
    }
   ],
   "source": [
    "import nltk\n",
    "nltk.download('punkt')\n",
    "sent_splitter = nltk.data.load('tokenizers/punkt/english.pickle')"
   ]
  },
  {
   "cell_type": "code",
   "execution_count": 5,
   "metadata": {},
   "outputs": [],
   "source": [
    "# sentences dataframe\n",
    "from functools import reduce\n",
    "\n",
    "def sents_series_from_df(df_sub):\n",
    "    sents = df_sub[\"content\"].apply(sent_splitter.tokenize)\n",
    "    sents_pairs = [[sent, [i]*len(sent)] for i, sent in zip(sents.index, sents)] \n",
    "    # df_sents = pd.DataFrame([df_sub[\"content\"].apply(sent_splitter.tokenize).values, df_sub.index.values]).transpose()\n",
    "    # df_sents.apply(lambda row: row.apply(), axis=1)\n",
    "    sents_df = pd.DataFrame(reduce(lambda old, tup: [old[0]+tup[0], old[1]+tup[1]], sents_pairs, [[], []])).transpose()\n",
    "    sents_df.columns = [\"sentence\", \"doc\"]\n",
    "    return sents_df"
   ]
  },
  {
   "cell_type": "markdown",
   "metadata": {},
   "source": [
    "## Experiment \\#1: Embeddings contextualization\n",
    "\n",
    "We presume that the same noun and verb in the same context have embeddings significantly more similar than in different contexts"
   ]
  },
  {
   "cell_type": "code",
   "execution_count": 6,
   "metadata": {},
   "outputs": [],
   "source": [
    "from allennlp.modules.text_field_embedders import BasicTextFieldEmbedder\n",
    "from allennlp.modules.token_embedders import ElmoTokenEmbedder\n",
    "\n",
    "elmo_embedder = ElmoTokenEmbedder(options_file=\"/home/xstefan3/bert_experiments/pytorch/cc/semantic-role-labeling/SemBERT/models/srl_model_dir/fta/model.text_field_embedder.elmo.options_file\", \\\n",
    "                                  weight_file=\"/home/xstefan3/bert_experiments/pytorch/cc/semantic-role-labeling/SemBERT/models/srl_model_dir/fta/model.text_field_embedder.elmo.weight_file\")\n",
    "word_embeddings = BasicTextFieldEmbedder({\"tokens\": elmo_embedder})"
   ]
  },
  {
   "cell_type": "code",
   "execution_count": 7,
   "metadata": {},
   "outputs": [
    {
     "data": {
      "text/plain": [
       "35"
      ]
     },
     "execution_count": 7,
     "metadata": {},
     "output_type": "execute_result"
    }
   ],
   "source": [
    "from allennlp.data.tokenizers.spacy_tokenizer import SpacyTokenizer\n",
    "tokenizer = SpacyTokenizer()\n",
    "sents_df =  sents_series_from_df(df[df[\"STORY\"] == \"ddUyU0VZz0BRneMioxUPQVP6sIxvM\"])\n",
    "sentences_tokenized = sents_df[\"sentence\"].apply(tokenizer.tokenize).apply(lambda ts: [t.text for t in ts])\n",
    "sentences_tokenized.iloc[0].__len__()"
   ]
  },
  {
   "cell_type": "code",
   "execution_count": 8,
   "metadata": {},
   "outputs": [],
   "source": [
    "# elmo embedder prototype\n",
    "from allennlp.modules.elmo import Elmo, batch_to_ids\n",
    "from allennlp.modules.token_embedders import ElmoTokenEmbedder\n",
    "from allennlp.data.tokenizers import Tokenizer\n",
    "\n",
    "character_ids = batch_to_ids(sents_df[\"sentence\"].apply(str.split).iloc[0]).to(\"cuda\")\n",
    "\n",
    "elmo = ElmoTokenEmbedder(options_file=\"/home/xstefan3/bert_experiments/pytorch/cc/semantic-role-labeling/SemBERT/models/srl_model_dir/fta/model.text_field_embedder.elmo.options_file\", \\\n",
    "                         weight_file=\"/home/xstefan3/bert_experiments/pytorch/cc/semantic-role-labeling/SemBERT/models/srl_model_dir/fta/model.text_field_embedder.elmo.weight_file\")\n",
    "elmo = elmo.to(\"cuda\")\n",
    "embeddings = elmo(character_ids)"
   ]
  },
  {
   "cell_type": "code",
   "execution_count": 252,
   "metadata": {},
   "outputs": [
    {
     "data": {
      "text/plain": [
       "(1, 768)"
      ]
     },
     "execution_count": 252,
     "metadata": {},
     "output_type": "execute_result"
    }
   ],
   "source": [
    "bert_embedding_for_word(\"Let's see all hidden-states and attentions on this little text\", \"attention\").shape"
   ]
  },
  {
   "cell_type": "code",
   "execution_count": 208,
   "metadata": {},
   "outputs": [
    {
     "data": {
      "text/plain": [
       "(torch.Size([1, 16, 768]),\n",
       " 0          [[CLS], hello, ,, my, dog, is, cute, [SEP]]\n",
       " 1    [[CLS], also, ,, my, cat, is, cute, ,, but, ju...\n",
       " dtype: object)"
      ]
     },
     "execution_count": 208,
     "metadata": {},
     "output_type": "execute_result"
    }
   ],
   "source": [
    "from transformers.tokenization_bert import BertTokenizer\n",
    "from transformers.modeling_bert import BertModel\n",
    "\n",
    "sentences = pd.Series([\"Hello, my dog is cute\", \"Also, my cat is cute, but just a bit.\"])\n",
    "\n",
    "tokenizer = BertTokenizer.from_pretrained('bert-base-uncased')\n",
    "model = BertModel.from_pretrained('bert-base-uncased', output_hidden_states=True)\n",
    "encoded_str = sentences.apply(tokenizer.encode)\n",
    "sentence_tokenized = encoded_str.apply(tokenizer.convert_ids_to_tokens)\n",
    "input_ids = torch.tensor([tokenizer.encode(\"Let's see all hidden-states and attentions on this text\")])\n",
    "outputs = model(input_ids)\n",
    "last_hidden_states = outputs[0]  # The last hidden-state is the first element of the output tuple\n",
    "last_hidden_states.shape, sentence_tokenized"
   ]
  },
  {
   "cell_type": "code",
   "execution_count": 189,
   "metadata": {},
   "outputs": [
    {
     "data": {
      "text/plain": [
       "[101, 100, 100, 102]"
      ]
     },
     "execution_count": 189,
     "metadata": {},
     "output_type": "execute_result"
    }
   ],
   "source": [
    "tokenizer.encode([\"Hello, my dog is cute\", \"Also, my cat is cute, but just a bit.\"])"
   ]
  },
  {
   "cell_type": "code",
   "execution_count": 187,
   "metadata": {},
   "outputs": [
    {
     "data": {
      "text/plain": [
       "0    10\n",
       "1    16\n",
       "dtype: int64"
      ]
     },
     "execution_count": 187,
     "metadata": {},
     "output_type": "execute_result"
    }
   ],
   "source": [
    "tokenizer.build_inputs_with_special_tokens(encoded_str).apply(list.__len__)"
   ]
  },
  {
   "cell_type": "code",
   "execution_count": null,
   "metadata": {},
   "outputs": [],
   "source": [
    "class BertEmbedder(BertModel):\n",
    "    def __init__(model_name='bert-base-uncased'):\n",
    "        super(self, model_name)\n",
    "        self.tokenizer = BertTokenizer.from_pretrained(model_name)\n",
    "        \n",
    "    def __call__(self, sentences: list):\n",
    "        encoded_str = tokenizer.encode(sentences)\n",
    "        sentence_tokenized = tokenizer.convert_ids_to_tokens(encoded_str)\n",
    "        input_ids = torch.tensor(encoded_str).unsqueeze(0)"
   ]
  },
  {
   "cell_type": "markdown",
   "metadata": {},
   "source": [
    "#### Story selection"
   ]
  },
  {
   "cell_type": "code",
   "execution_count": 31,
   "metadata": {},
   "outputs": [
    {
     "data": {
      "text/plain": [
       "array(['ddUyU0VZz0BRneMioxUPQVP6sIxvM', 'dPhGU51DcrolUIMxbRm0InaHGA2XM',\n",
       "       'dxyGGb4iN9Cs9aMZTKQpJeoiQfruM', ...,\n",
       "       'dydYiv0wtScnuDM-75yG_JgQcM6hM', 'dsvoMlrOmVIVZzMM0Ima1lhrDTg_M',\n",
       "       'dDk2Wxf1qj2LqAM-yKinrObYASKoM'], dtype=object)"
      ]
     },
     "execution_count": 31,
     "metadata": {},
     "output_type": "execute_result"
    }
   ],
   "source": [
    "df[\"STORY\"].unique()"
   ]
  },
  {
   "cell_type": "code",
   "execution_count": 400,
   "metadata": {},
   "outputs": [
    {
     "data": {
      "text/plain": [
       "125"
      ]
     },
     "execution_count": 400,
     "metadata": {},
     "output_type": "execute_result"
    }
   ],
   "source": [
    "df_sub = df[df[\"STORY\"] == \"dsvoMlrOmVIVZzMM0Ima1lhrDTg_M\"]\n",
    "inner_sents_df = sents_series_from_df(df_sub)\n",
    "inner_sents_df.__len__()"
   ]
  },
  {
   "cell_type": "code",
   "execution_count": 396,
   "metadata": {},
   "outputs": [
    {
     "data": {
      "text/plain": [
       "753"
      ]
     },
     "execution_count": 396,
     "metadata": {},
     "output_type": "execute_result"
    }
   ],
   "source": [
    "# df_sub2 = df[df[\"STORY\"] != \"dsvoMlrOmVIVZzMM0Ima1lhrDTg_M\"].sample(500)\n",
    "df_sub2 = df[df[\"STORY\"] == \"dPhGU51DcrolUIMxbRm0InaHGA2XM\"]\n",
    "outer_sents_df = sents_series_from_df(df_sub2)\n",
    "outer_sents_df.__len__()"
   ]
  },
  {
   "cell_type": "markdown",
   "metadata": {},
   "source": [
    "#### Pick ambiguous NN word and inspect distances of its contextual embeddings"
   ]
  },
  {
   "cell_type": "code",
   "execution_count": 401,
   "metadata": {},
   "outputs": [
    {
     "data": {
      "text/plain": [
       "10"
      ]
     },
     "execution_count": 401,
     "metadata": {},
     "output_type": "execute_result"
    }
   ],
   "source": [
    "' '.join(inner_sents_df[\"sentence\"]).split(\"company\").__len__()"
   ]
  },
  {
   "cell_type": "code",
   "execution_count": 398,
   "metadata": {},
   "outputs": [
    {
     "data": {
      "text/plain": [
       "10"
      ]
     },
     "execution_count": 398,
     "metadata": {},
     "output_type": "execute_result"
    }
   ],
   "source": [
    "' '.join(outer_sents_df[\"sentence\"]).split(\"company\").__len__()"
   ]
  },
  {
   "cell_type": "code",
   "execution_count": 409,
   "metadata": {},
   "outputs": [],
   "source": [
    "from allennlp.data.tokenizers.spacy_tokenizer import SpacyTokenizer\n",
    "from sklearn.metrics.pairwise import cosine_similarity\n",
    "import numpy as np\n",
    "import torch\n",
    "\n",
    "tokenizer = SpacyTokenizer()\n",
    "\n",
    "\n",
    "def embeddings_for_word(in_word, sents_df, model, batched=True, infer_batch=32, device=\"cuda\"):\n",
    "    sents_all = sents_df[\"sentence\"]\n",
    "    sents_relevant = sents_all[sents_all.apply(lambda sent: in_word in sent)]\n",
    "    if len(sents_relevant) == 0:\n",
    "        raise ValueError(\"No matches for the word %s in dataframe\" % in_word)\n",
    "    sentences_tokenized = sents_relevant.apply(tokenizer.tokenize).apply(lambda ts: [t.text for t in ts])\n",
    "    inputs = batch_to_ids(sentences_tokenized)\n",
    "    if batched and len(sentences_tokenized) > infer_batch:\n",
    "        embeddings_all = torch.Tensor()\n",
    "        border_is = list(range(0, len(sentences_tokenized), infer_batch))+[len(sentences_tokenized)]\n",
    "        for batch_low_i, batch_up_i in ((border_is[i-1], border_is[i]) for i in range(1, len(border_is))):\n",
    "            i_batch = inputs[batch_low_i:batch_up_i]\n",
    "            print(\"%s/%s\" % (batch_low_i, len(sentences_tokenized)))\n",
    "            i_embs = model(i_batch.to(device))\n",
    "            embeddings_all = torch.cat((embeddings_all, i_embs.detach().cpu()), 0)\n",
    "    else:\n",
    "        embeddings_all = elmo(inputs.to(device)).detach().cpu()\n",
    "\n",
    "    embs_word = []\n",
    "    for sent, embs in zip(sentences_tokenized, embeddings_all.squeeze().detach().numpy()):\n",
    "#         print(\"sent_len: %s, embs_len: %s\" % (len(sent), len(embs)))\n",
    "        embs = [emb for word, emb in zip(sent, embs) if word.lower()==in_word.lower()]\n",
    "        if embs:\n",
    "            for emb in embs:\n",
    "                embs_word.append(emb)\n",
    "    return embs_word"
   ]
  },
  {
   "cell_type": "code",
   "execution_count": 420,
   "metadata": {},
   "outputs": [],
   "source": [
    "from transformers.tokenization_bert import BertTokenizer\n",
    "from transformers.modeling_bert import BertModel\n",
    "\n",
    "bert_tokenizer = BertTokenizer.from_pretrained('bert-base-uncased')\n",
    "bert_model = BertModel.from_pretrained('bert-base-uncased', output_hidden_states=True).to(\"cuda\")\n",
    "\n",
    "\n",
    "def bert_embedding(sentence, token, device=\"cuda\"):\n",
    "    if token in sentence:\n",
    "        encoded_sent = bert_tokenizer.encode(sentence)\n",
    "        tokenized_sent = np.array(bert_tokenizer.convert_ids_to_tokens(encoded_sent))\n",
    "        if any([piece in token or token in piece for piece in tokenized_sent]):\n",
    "            input_ids = torch.tensor([bert_tokenizer.encode(sentence)]).to(device)\n",
    "            embeddings = bert_model(input_ids)[-1][0][0]\n",
    "            filter_mask = [(piece in token and len(piece) > len(token)-1 or (token in piece and len(token)) > len(piece)-1) for piece in tokenized_sent]\n",
    "            token_e = embeddings[filter_mask]\n",
    "            return tokenized_sent[filter_mask], token_e\n",
    "        else:\n",
    "            raise ValueError(\"No matches for the wordpiece '%s' in dataframe. Present wordpieces: %s\" % (token, tokenized_sent))"
   ]
  },
  {
   "cell_type": "code",
   "execution_count": 421,
   "metadata": {},
   "outputs": [],
   "source": [
    "def bert_embeddings_for_word(in_word, sents_df, device=\"cuda\"):\n",
    "    sents_all = sents_df[\"sentence\"]\n",
    "    sents_relevant = sents_all[sents_all.apply(lambda sent: in_word in sent)]\n",
    "    if len(sents_relevant) == 0:\n",
    "        raise ValueError(\"No matches for the word %s in dataframe\" % in_word)\n",
    "    embeddings_all = torch.Tensor().to(device)\n",
    "    found_tokens = []\n",
    "    for i, sent in enumerate(sents_relevant):\n",
    "        output = bert_embedding(sent, in_word, device)\n",
    "        if output is None:\n",
    "            continue\n",
    "        new_tokens, i_embs = output\n",
    "        found_tokens.extend(new_tokens)\n",
    "        embeddings_all = torch.cat((embeddings_all, i_embs), 0)\n",
    "    print(found_tokens)\n",
    "    return embeddings_all.detach().cpu()"
   ]
  },
  {
   "cell_type": "code",
   "execution_count": 422,
   "metadata": {},
   "outputs": [],
   "source": [
    "from sklearn.metrics.pairwise import cosine_similarity\n",
    "\n",
    "\n",
    "def plot_dists(word, embeddings=\"bert\", inter_frame=False, bins=100, subsample=False):\n",
    "    if embeddings==\"bert\":\n",
    "        inner_embs = bert_embeddings_for_word(word, inner_sents_df)\n",
    "        outer_embs = bert_embeddings_for_word(word, outer_sents_df)\n",
    "    else:\n",
    "        inner_embs = embeddings_for_word(word, inner_sents_df, elmo, infer_batch=128)\n",
    "        outer_embs = embeddings_for_word(word, outer_sents_df, elmo, infer_batch=16)\n",
    "    if inter_frame:\n",
    "        inner_dists = 1-cosine_similarity(inner_embs)\n",
    "        outer_dists = 1-cosine_similarity(inner_embs, outer_embs)\n",
    "    else:\n",
    "        inner_dists = 1-cosine_similarity(inner_embs)\n",
    "        outer_dists = 1-cosine_similarity(outer_embs)\n",
    "    print(inner_dists.flatten().mean(), outer_dists.flatten().mean())\n",
    "    from scipy.stats import ttest_ind\n",
    "    t, pval = ttest_ind(inner_dists.flatten(), outer_dists.flatten())\n",
    "    print(\"P-value: %s\" % pval)\n",
    "    if pval < 0.05:\n",
    "        print(\"Means are significantly different\")\n",
    "    ax = pd.Series(inner_dists.flatten()).hist(bins=bins, alpha=0.4)\n",
    "    if subsample:\n",
    "        pd.Series(outer_dists.flatten()).sample(len(inner_dists.flatten())).reset_index(drop=True).hist(bins=bins, alpha=0.4, ax=ax)\n",
    "    else:\n",
    "        pd.Series(outer_dists.flatten()).hist(bins=bins, alpha=0.4, ax=ax)"
   ]
  },
  {
   "cell_type": "code",
   "execution_count": 376,
   "metadata": {},
   "outputs": [
    {
     "name": "stdout",
     "output_type": "stream",
     "text": [
      "0/55\n",
      "16/55\n",
      "32/55\n",
      "48/55\n",
      "0.64832294 0.6522623\n",
      "P-value: 0.7269603438649522\n"
     ]
    },
    {
     "data": {
      "image/png": "[encoded data removed]",
      "text/plain": [
       "<Figure size 432x288 with 1 Axes>"
      ]
     },
     "metadata": {
      "needs_background": "light"
     },
     "output_type": "display_data"
    }
   ],
   "source": [
    "plot_dists('makers', 'elmo', subsample=True)"
   ]
  },
  {
   "cell_type": "code",
   "execution_count": 377,
   "metadata": {},
   "outputs": [
    {
     "name": "stdout",
     "output_type": "stream",
     "text": [
      "['makers', 'makers', 'makers', 'make', 'makers', 'makers', 'makers', 'makers', 'makers', 'makers', 'makers', 'makers', 'makers', 'makers', 'makers', 'makers', 'makers', 'makers', 'makers', 'make']\n",
      "['filmmakers', 'makers', 'makers', '##makers', 'makers', '##makers', 'makers', 'make', 'makers', '##makers', 'makers', 'makers', 'filmmakers', 'filmmakers', 'filmmakers', '##makers', '##makers', '##makers', '##makers', 'makers', 'makers', 'makers', 'makers', 'makers', '##makers', '##makers', '##makers', 'makers', '##makers', 'makers', 'make', 'makers', '##makers', '##makers', 'makers', '##makers', 'makers', 'makers', 'makers', '##makers', '##makers', 'makers', '##makers', '##makers', '##makers', '##makers', '##makers', '##makers', '##makers', '##makers', 'makers', 'makers', 'makers', '##makers', 'makers', 'make', '##makers', '##makers', '##makers', '##makers']\n",
      "0.1875917 0.3798397\n",
      "P-value: 1.2992065836089144e-37\n",
      "Means are significantly different\n"
     ]
    },
    {
     "data": {
      "image/png": "[encoded data removed]",
      "text/plain": [
       "<Figure size 432x288 with 1 Axes>"
      ]
     },
     "metadata": {
      "needs_background": "light"
     },
     "output_type": "display_data"
    }
   ],
   "source": [
    "plot_dists('makers', 'bert', subsample=True)"
   ]
  },
  {
   "cell_type": "code",
   "execution_count": 95,
   "metadata": {
    "collapsed": true,
    "jupyter": {
     "outputs_hidden": true
    }
   },
   "outputs": [
    {
     "data": {
      "text/plain": [
       "'General Mills in fight to block Cinnamon Toast Crunch vaping\\nOwners of brands geared to children have set the battle lines in a fight to keep names like Thin Mint, Tootsie Roll and Cinnamon Toast Crunch off flavored nicotine used in electronic cigarettes. The Associated Press reports that Golden Valley-based General Mills is joining with the Girl Scouts and Tootsie Roll Industries in firing off cease-and-desist letters to makers of liquid nicotine. The letters demand that they stop using the brands and warn of additional legal action. A trend story published earlier this year by the Oakland Tribune looked at the growing popularity of vaping — puffing on inhalers known as electronic cigarettes or vape pen that use small batteries to heat a flavored liquid until it produces an inhalable vapor. The liquid may contain varying levels of a nicotine kick, from zero (flavor only) up to 24 milligrams, but no tobacco smoke is produced.There are vape shops, vape meets and even Vape Magazine for aficionados, which says it covers ‘e-cigarette news and culture.’ Vape News Radio, a podcast devoted to issues surrounding the practice. The Tobacco Vapor Electronic Cigarette Association estimates 4 million Americans now use the battery-powered cigarettes. Consumers Union notes that sales of the products grew from about $500 million in 2012 to an estimated $1.5 billion in 2013. “Using the Thin Mint name — which is synonymous with Girl Scouts and everything we do to enrich the lives of girls — to market e-cigarettes to youth is deceitful and shameless,” Girl Scouts spokeswoman Kelly Parisi said in a statement. “Unfortunately it’s not going to change unless companies come in and assert their intellectual property,” said Linc Williams, board member of the American E-liquid Manufacturing Standards Association and an executive at NicVape Inc., which produces liquid nicotine. The Food and Drug Administration last month proposed regulating electronic cigarettes but didn’t ban fruit or candy flavors. Some fear kid-friendly flavors like bubble gum, cherry crush and blueberry will lure young people into the nicotine habit, even though it’s illegal for minors to buy them. General Mills, Girl Scouts Go After Makers Of Liquid Nicotine Over Trademarked Names\\nThough the makers of e-cigarettes say their devices aren’t marketed to children, some companies that make liquid nicotine are not only using candy and fruit flavors that are forbidden from regular tobacco, but they’re using trademarked names of well-known snacks, sweets, and cereals. This isn’t sitting well with the companies that hold those trademarks. For example, there’s apparently a liquid nicotine flavor called “Cinnamon Toast Crunch,” which just happens to be the name of a popular General Mills brand of cereal. And it’s not exactly an adult-target cereal (though I know way too many adults who eat it on a regular basis). That’s why General Mills is issuing cease-and-desist orders to nicotine makers that use Cinnamon Toast Crunch or any of its other brands. “Any use is unauthorized and would constitute an illegal misuse of our marks,” the company said in a statement to the Star Tribune. “General Mills has already sent a cease and desist letter to remove our branding and trademarks from these products – and we will take further action if necessary.”\\nAnd the cereal biggie isn’t the only one trying to keep its trademarks off of liquid nicotine. The Girl Scouts are none-too-thrilled about seeing “Thin Mint” being tossed around as a nicotine flavor, especially because of the youngster-friendly image of the Scouts. “Using the Thin Mint name — which is synonymous with Girl Scouts and everything we do to enrich the lives of girls — to market e-cigarettes to youth is deceitful and shameless,” a rep for the organization told the Tribune. Tootsie Roll Industries, the makers of cold-rolled steel Tootsie Rolls are also asking nicotine companies to please stop trying to cash in on its candy brand that has been getting stuck in kids’ teeth for over a century. “We’re family oriented. A lot of kids eat our products, we have many adults also, but our big concern is we have to protect the trademark,” said Ellen Gordon, president and chief operating officer of Tootsie, who is not Dustin Hoffman in a wig. “When you have well-known trademarks, one of your responsibilities is to protect (them) because it’s been such a big investment over the years.”\\nLawyers for these companies could be busy for quite some time, with around 1,500 businesses putting out liquid nicotine in the U.S.\\n“It’s the age-old problem with an emerging market,” explains a board member of the American E-liquid Manufacturing Standards Association (which is an actual thing and not something from a 1957 sci-fi novella). “As companies goes through their maturity process of going from being a wild entrepreneur to starting to establish real corporate ethics and product stewardship, it’s something that we’re going to continue to see.”\\nAnd he should know, as his company was slapped on the wrist for selling a “Junior Mint” branded nicotine. Candy and cookie companies do not want their brand names to flavor nicotine in e-cigarettes. According to the Associated Press, General Mills, Girl Scouts USA, and Tootsie Roll Industries Inc. have reportedly ordered liquid nicotine companies to not use their brands\\' signature flavors in e-cigarettes, for fear they might lure children into developing a smoking habit. Companies have subsequently started to implement intellectual property rights on their inventory to ensure their products won\\'t be used improperly. A board member of the American E-liquid Manufacturing Standards Association told AP the issue has been around for quite some time. A rise in tobacco users since 2006 has given popular cigarette makers R.J. Reynolds Tobacco and Philip Morris USA legal battles with websites that sold e-cigarettes and reportedly took advantage of their Camel and Marlboro brand names and graphics. Williams, also an executive at nicotine producer NicVape, said he doesn\\'t see the issue going away anytime soon. \"As companies going through their maturity process of going from being a wild entrepreneur to starting to establish real corporate ethics and product stewardship, it\\'s something that we\\'re going to continue to see,\" Williams said. \"Unfortunately it\\'s not going to change unless companies come in and assert their intellectual property.\" Tootsie Roll\\'s president and chief operating officer said the company\\'s main concern is protecting the brand. \"We\\'re family oriented. A lot of kids eat our products, we have many adults also, but our big concern is we have to protect the trademark,\" Ellen Gordon said. \"When you have well-known trademarks, one of your responsibilities is to protect [them] because it\\'s been such a big investment over the years.\" A spokeswoman for Girl Scouts said using the non-profit organization\\'s Thin Mint flavor disgracefully misrepresents the audience it intends to serve. \"Using the Thin Mint name - which is synonymous with Girl Scouts and everything we do to enrich the lives of girls - to market e-cigarettes to youth is deceitful and shameless,\" Kelly Parisi said. Girl Scout Cookies and others are going after e-cig manufacturers to make them stop using their brand names. Photo courtesy of <\"http://www.shutterstock.com/pic-134639855/stock-photo-woman-smoking-e-fag-wearing-purple-dress.html?src=cdNoYl0p9iszZ8X5xJpixg-1-51\"> Shutterstock\\tElectronic cigarette smokers have been enjoying a wide variety of flavors such as Thin Mint, Tootsie Roll, Cinnamon Toast Crunch, and gummy bear without the Food and Drug Administration\\'s regulation. The electronic cigarette, also known as an e-cig, was introduced by a Chinese pharmacist to the American market in 2007 and has since caused controversy. The unregulated battery-powered device delivers liquid nicotine deep into the users’ lungs, producing the dangerous vapors with unknown health risks. The e-cig industry, which is composed of about 1,500 e-liquid makers in the U.S., reached nearly $2 billion in sales last year and will soon be faced with the inevitable FDA regulation. Middle school-aged children and high school kids alike are increasingly becoming attracted to the child-like flavors of familiar candy and cookie names. According to the Stanford School of Medicine, e-liquids, which are what fuel e-cigs, are appealing to children and teenagers who are curious to experiment with tobacco products and are disarmed by the deceivingly “safe nature” of smokeless cigarettes. The sweet flavors help mask the bitterness of the tobacco, while the nicotine works to hook teens and create a new generation of addicts. “Unfortunately it’s not going to change unless companies come in and assert their intellectual property,” said Linc Williams, board member of the American E-liquid Manufacturing Standards Association and an executive at NicVape Inc., which produces liquid nicotine. Follow Us\\tGirl Scouts of the USA, General Mills Inc., and Tootsie Roll Industries Inc., are among the many companies that have already sent cease-and-desist letters to liquid nicotine manufacturers that demand them to stop labeling their products with their brand names, or else they’ll take further legal action. “It’s the age-old problem with an emerging market,” Williams added. “As companies go through their maturity process of going from being a wild entrepreneur to starting to establish real corporate ethics and product stewardship, it’s something that we’re going to continue to see.”\\tThe companies fear that the brand names they’ve worked hard to establish in people’s minds are going to be tainted with the association of an addictive and harmful substance such as nicotine. Some have even gone as far as to try and stop them from using names that simply attract children, like gummi bears, which aren’t a brand of their own but are a flavor concept many companies use regularly to market for children. “We’re family oriented. A lot of kids eat our products, we have many adults also, but our big concern is we have to protect the trademark,” said Ellen Gordon, president and chief operating officer of Tootsie Roll Industries Inc. “When you have well-known trademarks, one of your responsibilities is to protect [them] because it’s been such a big investment over the years.”\\tE-cigs are even easier for kids to buy than the traditional cigarette because there’s no federal age restriction put into place. When states like California, try to prohibit sales to minors, they simply purchase from independent sellers on sites like eBay. The vaporized flavor copycats of our childhood favorite Girl Scout cookies, and their favorite Tootsie Rolls, disperse throughout restaurants, malls, and even some classroom when gone unnoticed, which makes them hard to track and even harder to stop. “Using the Thin Mint name — which is synonymous with Girl Scouts and everything we do to enrich the lives of girls — to market e-cigarettes to youth is deceitful and shameless,” Girl Scouts spokeswoman Kelly Parisi said in a statement. The organization is just one company fighting the makers of the flavored nicotine used in electronic cigarettes. It has joined General Mills and Tootsie Roll industries in threatening legal action for using their brand names like \"Thin Mint\", \"Cinnamon Toast Crunch\", \"Tootsie Roll\", and other flavors that appeal to children. Last month, the FDA proposed regulating E-cigarettes, but did not ban fruit or candy flavors, which are not allowed to be used in regular cigarettes. Online Public Information File\\nViewers with disabilities can get assistance accessing this station\\'s FCC Public Inspection File by contacting the station with the information listed below. Questions or concerns relating to the accessibility of the FCC\\'s online public file system should be directed to the FCC at 888-225-5322, 888-835-5322 (TTY), or fccinfo@fcc.gov. Sweets Makers Try To Keep Names Off E-Cigarettes\\nRICHMOND, Va. (AP) -- Owners of brands geared toward children of all ages are battling to keep notable names like Thin Mint, Tootsie Roll and Cinnamon Toast Crunch off the flavored nicotine used in electronic cigarettes. General Mills Inc., the Girl Scouts of the USA and Tootsie Roll Industries Inc. are among several companies that have sent cease-and-desist letters to makers of the liquid nicotine demanding they stop using the brands and may take further legal action if necessary. They want to make sure their brands aren\\'t being used to sell an addictive drug or make it appealing to children. The actions highlight the debate about the array of flavors available for the battery-powered devices that heat a liquid nicotine solution, creating vapor that users inhale. The Food and Drug Administration last month proposed regulating electronic cigarettes but didn\\'t immediately ban on fruit or candy flavors, which are barred for use in regular cigarettes because of the worry that the flavors are used to appeal to children. It\\'s growing pains for the industry that reached nearly $2 billion in sales last year in the face of looming regulation. E-cigarette users say the devices address both the addictive and behavioral aspects of smoking without the thousands of chemicals found in regular cigarettes. There are about 1,500 e-liquid makers in the U.S. and countless others abroad selling vials of nicotine from traditional tobacco to cherry cola on the Internet and in retail stores, often featuring photos of the popular treats. Using the brand name like Thin Mint or Fireball conjures up a very specific flavor in buyers\\' minds, in a way that just \"mint chocolate\" or \"cinnamon\" doesn\\'t. \"Using the Thin Mint name — which is synonymous with Girl Scouts and everything we do to enrich the lives of girls — to market e-cigarettes to youth is deceitful and shameless,\" Girl Scouts spokeswoman Kelly Parisi said in a statement. The issue of illegally using well-known brands on e-cigarette products isn\\'t new for some. For a couple of years, cigarette makers R.J. Reynolds Tobacco and Philip Morris USA have fought legal battles with websites selling e-cigarette liquid capitalizing on their Camel and Marlboro brand names and imagery. The companies have since released their own e-cigarettes but without using their top-selling brand names. \"It\\'s the age-old problem with an emerging market,\" said Linc Williams, board member of the American E-liquid Manufacturing Standards Association and an executive at NicVape Inc., which produces liquid nicotine. \"As companies goes through their maturity process of going from being a wild entrepreneur to starting to establish real corporate ethics and product stewardship, it\\'s something that we\\'re going to continue to see.\" Williams said his company is renaming many of its liquids to names that won\\'t be associated with well-known brands. Some companies demanded NicVape stop using brand names such as Junior Mints on their liquid nicotine. In other cases, the company is taking proactive steps to removing imagery and names like gummy bear that could be appealing to children. \"Unfortunately it\\'s not going to change unless companies come in and assert their intellectual property,\" he said. And that\\'s what companies are starting to do more often as the industry has rocketed from thousands of users in 2006 to several million worldwide, bringing the issue to the forefront. \"We\\'re family oriented. A lot of kids eat our products, we have many adults also, but our big concern is we have to protect the trademark,\" said Ellen Gordon, president and chief operating officer of Tootsie Roll Industries Inc. \"When you have well-known trademarks, one of your responsibilities is to protect (them) because it\\'s been such a big investment over the years.\" Candy and cookie makers want to keep names off e-cigarettes\\nThe Girl Scouts of the USA and Tootsie Roll Industries Inc. are among several companies that have sent cease-and-desist letters to makers of the liquid nicotine demanding they stop using the brands. (Girl Scouts/ AP)\\nOwners of brands geared toward children of all ages are battling to keep notable names like Thin Mint, Tootsie Roll and Cinnamon Toast Crunch off the flavored nicotine used in electronic cigarettes. Now the owners of those trademarks are fighting back to make sure their brands aren’t being used to sell an addictive drug or make it appealing to to children. ADVERTISEMENT\\nADVERTISEMENT\\nThe issue of illegally using well-known brands on e-cigarette products isn’t new for some. For a couple of years, cigarette makers R.J. Reynolds Tobacco and Philip Morris USA have fought legal battles with websites selling e-cigarette liquid capitalizing on their Camel and Marlboro brand names and imagery. The companies have since released their own e-cigarettes but without using their top-selling brand names. “It’s the age-old problem with an emerging market,” said Linc Williams, board member of the American E-liquid Manufacturing Standards Association and an executive at NicVape Inc., which produces liquid nicotine. “As companies goes through their maturity process of going from being a wild entrepreneur to starting to establish real corporate ethics and product stewardship, it’s something that we’re going to continue to see.”\\nWilliams said his company is renaming many of its liquids to names that won’t be associated with well-known brands. Some companies demanded NicVape stop using brand names such as Junior Mints on their liquid nicotine. In other cases, the company is taking proactive steps to removing imagery and names like gummy bear that could be appealing to children. “Unfortunately it’s not going to change unless companies come in and assert their intellectual property,” he said. And that’s what companies are starting to do more often as the industry has rocketed from thousands of users in 2006 to several million worldwide, bringing the issue to the forefront. “We’re family oriented. A lot of kids eat our products, we have many adults also, but our big concern is we have to protect the trademark,” said Ellen Gordon, president and chief operating officer of Tootsie Roll Industries Inc.\\n“When you have well-known trademarks, one of your responsibilities is to protect (them) because it’s been such a big investment over the years.”\\nGeneral Mills Inc., the Girl Scouts of the USA and Tootsie Roll Industries Inc. are among several companies that have sent cease-and-desist letters to makers of the liquid nicotine demanding they stop using the brands and may take further legal action if necessary. The actions highlight the debate about the array of flavors available for the battery-powered devices that heat a liquid nicotine solution, creating vapor that users inhale. The Food and Drug Administration last month proposed regulating electronic cigarettes but didn’t immediately ban on fruit or candy flavors, which are barred for use in regular cigarettes because of the worry that the flavors are used to appeal to children. It’s growing pains for the industry that reached nearly $2 billion in sales last year in the face of looming regulation. E-cigarette users say the devices address both the addictive and behavioral aspects of smoking without the thousands of chemicals found in regular cigarettes. There are about 1,500 e-liquid makers in the U.S. and countless others abroad selling vials of nicotine from traditional tobacco to cherry cola on the Internet and in retail stores, often featuring photos of the popular treats. Using the brand name like Thin Mint or Fireball conjures up a very specific flavor in buyers’ minds, in a way that just “mint chocolate” or “cinnamon” doesn’t. “Using the Thin Mint name— which is synonymous with Girl Scouts and everything we do to enrich the lives of girls— to market e-cigarettes to youth is deceitful and shameless,” Girl Scouts spokeswoman Kelly Parisi said in a statement. E-cigarettes are facing heat from well known brands\\nElectronic cigarettes, or E-cigarettes (e-cigs), are often looked at as the sign of hope out there for those addicted to nicotine who are trying to quit the habit. E-cigs are, honestly, brilliant, but they have recently run into some problems; most of them in marketing. Companies who manufacture e-cigs are getting a lot of heat from campaigns about marketing towards impressionable children, according to Daily Digest News. And now they are facing even more controversy. E-cigs have begun to use well known “flavors” and brands to get people to buy the product; arguably to market towards children. For example, one company uses the name “Thin Mint,” after one of America’s favorite Girl Scout cookies. Other companies use flavors like “Junior Mint,” “Gummy Bear,” and even “Cherry Cola.”\\n“Using the Thin Mint name — which is synonymous with Girl Scouts and everything we do to enrich the lives of girls — to market e-cigarettes to youth is deceitful and shameless,” Girl Scouts spokeswoman Kelly Parisi remarked. The Food and Drug Administration (FDA) passed regulations on e-cigs last month, but did not prohibit the use of candy flavors. Owners of the brands, according to The Associated Press, are fighting to keep the names of their companies off of e-cigs. General Mills Inc., the Girl Scouts of the USA and Tootsie Roll are all among those fighting to keep their names “clean.”\\tThe issue has steadily grown larger as e-cigs are becoming used more and more worldwide. The number of users grew from thousands in 2006 to several million this year. \"We\\'re family oriented. A lot of kids eat our products, we have many adults also, but our big concern is we have to protect the trademark,\" said Ellen Gordon, president of Tootsie Roll Industries Inc. \"When you have well-known trademarks, one of your responsibilities is to protect (them) because it\\'s been such a big investment over the years.\" Sweet and sour\\nLeaves a bad taste in one’s mouth: The makers of the liquid nicotine used in e-cigarettes are being criticized for using the brand names of Tootsie Rolls, Thin Mints and other sweets, to name the flavors used in e-cigs. The candy makers are upset about trademark infringement, and health officials are certain the flavors and names make them easier to market to kids. That’s nonsense. If the tobacco companies wanted to market e-cigs to children, they’d use cute cartoon characters, like a camel, or classic heroes, like a cowboy, to influence kids. —\\nSmarter than the average bear: Federal biologists plan to begin trapping and tagging grizzly bears in the Grand Teton National Park to keep tabs on the Greater Yellowstone grizzlies. The precise location of the traps will not be publicized, officials said, because biologists don’t want anyone to interfere with their work. The biologists already have to contend with the bears tweeting the location of traps with their smartphones.'"
      ]
     },
     "execution_count": 95,
     "metadata": {},
     "output_type": "execute_result"
    }
   ],
   "source": [
    "' '.join(inner_sents_df[\"sentence\"])"
   ]
  },
  {
   "cell_type": "code",
   "execution_count": 402,
   "metadata": {},
   "outputs": [
    {
     "data": {
      "text/plain": [
       "10"
      ]
     },
     "execution_count": 402,
     "metadata": {},
     "output_type": "execute_result"
    }
   ],
   "source": [
    "' '.join(inner_sents_df[\"sentence\"]).split(\"company\").__len__()"
   ]
  },
  {
   "cell_type": "code",
   "execution_count": 403,
   "metadata": {},
   "outputs": [
    {
     "data": {
      "text/plain": [
       "10"
      ]
     },
     "execution_count": 403,
     "metadata": {},
     "output_type": "execute_result"
    }
   ],
   "source": [
    "' '.join(outer_sents_df[\"sentence\"]).split(\"company\").__len__()"
   ]
  },
  {
   "cell_type": "code",
   "execution_count": 414,
   "metadata": {},
   "outputs": [
    {
     "name": "stdout",
     "output_type": "stream",
     "text": [
      "0.55156124 0.7286881\n",
      "P-value: 3.568013155165306e-10\n",
      "Means are significantly different\n"
     ]
    },
    {
     "data": {
      "image/png": "[encoded data removed]",
      "text/plain": [
       "<Figure size 432x288 with 1 Axes>"
      ]
     },
     "metadata": {
      "needs_background": "light"
     },
     "output_type": "display_data"
    }
   ],
   "source": [
    "plot_dists(\"company\", \"elmo\", inter_frame=True, bins=20)"
   ]
  },
  {
   "cell_type": "code",
   "execution_count": 423,
   "metadata": {},
   "outputs": [
    {
     "name": "stdout",
     "output_type": "stream",
     "text": [
      "['company', 'company', 'company', 'company', 'company', 'company', 'company', 'company', 'company']\n",
      "['company', 'company', 'company', 'company', 'company', 'company', 'company', 'company']\n",
      "0.074598946 0.087819986\n",
      "P-value: 0.03393970878115804\n",
      "Means are significantly different\n"
     ]
    },
    {
     "data": {
      "image/png": "[encoded data removed]",
      "text/plain": [
       "<Figure size 432x288 with 1 Axes>"
      ]
     },
     "metadata": {
      "needs_background": "light"
     },
     "output_type": "display_data"
    }
   ],
   "source": [
    "plot_dists(\"company\", \"bert\", inter_frame=True, bins=20)"
   ]
  },
  {
   "cell_type": "code",
   "execution_count": 425,
   "metadata": {},
   "outputs": [
    {
     "name": "stdout",
     "output_type": "stream",
     "text": [
      "0/50\n",
      "16/50\n",
      "32/50\n",
      "48/50\n",
      "0.7146142 0.7728584\n",
      "P-value: 1.4896936007605273e-14\n",
      "Means are significantly different\n"
     ]
    },
    {
     "data": {
      "image/png": "[encoded data removed]",
      "text/plain": [
       "<Figure size 432x288 with 1 Axes>"
      ]
     },
     "metadata": {
      "needs_background": "light"
     },
     "output_type": "display_data"
    }
   ],
   "source": [
    "plot_dists(\"said\", \"elmo\", inter_frame=True, bins=20, subsample=True)"
   ]
  },
  {
   "cell_type": "code",
   "execution_count": 426,
   "metadata": {},
   "outputs": [
    {
     "name": "stdout",
     "output_type": "stream",
     "text": [
      "['said', 'said', 'said', 'said', 'said', 'said', 'said', 'said', 'said', 'said', 'said', 'said', 'said', 'said', 'said', 'said', 'said', 'said', 'said', 'said', 'said', 'said', 'said', 'said', 'said']\n",
      "['said', 'said', 'said', 'said', 'said', 'said', 'said', 'said', 'said', 'said', 'said', 'said', 'said', 'said', 'said', 'said', 'said', 'said', 'said', 'said', 'said', 'said', 'said', 'said', 'said', 'said', 'said', 'said', 'said', 'said', 'said', 'said', 'said', 'said', 'said', 'said', 'said', 'said', 'said', 'said', 'said', 'said', 'said', 'said', 'said', 'said', 'said', 'said', 'said', 'said', 'said']\n",
      "0.112746835 0.12225543\n",
      "P-value: 1.0006294730805586e-06\n",
      "Means are significantly different\n"
     ]
    },
    {
     "data": {
      "image/png": "[encoded data removed]",
      "text/plain": [
       "<Figure size 432x288 with 1 Axes>"
      ]
     },
     "metadata": {
      "needs_background": "light"
     },
     "output_type": "display_data"
    }
   ],
   "source": [
    "plot_dists(\"said\", \"bert\", inter_frame=True, bins=20, subsample=True)"
   ]
  },
  {
   "cell_type": "markdown",
   "metadata": {},
   "source": [
    "## Experiment \\#2: inspect Sequential distance:\n",
    "\n",
    "Sequences of (NN, Major V:(Minor V1, Minor V2, Minor V3))\n",
    "\n",
    "Compare the inner-topic distance to outer-topic distance, of sequences matching on NN. "
   ]
  },
  {
   "cell_type": "code",
   "execution_count": 102,
   "metadata": {
    "scrolled": true
   },
   "outputs": [
    {
     "name": "stderr",
     "output_type": "stream",
     "text": [
      "\n",
      "  0%|          | 0/73228310 [00:00<?, ?B/s]\u001b[A\n",
      "  0%|          | 17408/73228310 [00:00<13:46, 88610.84B/s]\u001b[A\n",
      "  0%|          | 52224/73228310 [00:00<11:45, 103756.54B/s]\u001b[A\n",
      "  0%|          | 87040/73228310 [00:00<10:11, 119690.27B/s]\u001b[A\n",
      "  0%|          | 208896/73228310 [00:00<07:43, 157591.36B/s]\u001b[A\n",
      "  1%|          | 452608/73228310 [00:00<05:41, 213193.81B/s]\u001b[A\n",
      "  1%|▏         | 922624/73228310 [00:01<04:06, 293058.83B/s]\u001b[A\n",
      "  3%|▎         | 1862656/73228310 [00:01<02:55, 406448.67B/s]\u001b[A\n",
      "  3%|▎         | 2064384/73228310 [00:01<02:22, 500449.34B/s]\u001b[A\n",
      "  5%|▍         | 3533824/73228310 [00:01<01:40, 695051.10B/s]\u001b[A\n",
      "  7%|▋         | 4828160/73228310 [00:02<01:12, 941867.87B/s]\u001b[A\n",
      "  7%|▋         | 5235712/73228310 [00:02<00:59, 1144804.53B/s]\u001b[A\n",
      "  9%|▉         | 6892544/73228310 [00:02<00:42, 1546337.87B/s]\u001b[A\n",
      " 11%|█         | 7875584/73228310 [00:02<00:33, 1936780.65B/s]\u001b[A\n",
      " 12%|█▏        | 8760320/73228310 [00:02<00:27, 2338035.31B/s]\u001b[A\n",
      " 13%|█▎        | 9776128/73228310 [00:03<00:22, 2772641.06B/s]\u001b[A\n",
      " 15%|█▍        | 10791936/73228310 [00:03<00:19, 3220699.58B/s]\u001b[A\n",
      " 16%|█▌        | 11824128/73228310 [00:03<00:16, 3622192.42B/s]\u001b[A\n",
      " 18%|█▊        | 12872704/73228310 [00:03<00:15, 3982170.07B/s]\u001b[A\n",
      " 19%|█▉        | 13937664/73228310 [00:03<00:13, 4262995.68B/s]\u001b[A\n",
      " 20%|██        | 15002624/73228310 [00:04<00:12, 4561177.09B/s]\u001b[A\n",
      " 22%|██▏       | 16083968/73228310 [00:04<00:11, 4774378.02B/s]\u001b[A\n",
      " 23%|██▎       | 17165312/73228310 [00:04<00:11, 4933245.45B/s]\u001b[A\n",
      " 25%|██▍       | 18263040/73228310 [00:04<00:10, 5073097.73B/s]\u001b[A\n",
      " 26%|██▋       | 19377152/73228310 [00:04<00:10, 5155222.36B/s]\u001b[A\n",
      " 28%|██▊       | 20474880/73228310 [00:05<00:09, 5282447.42B/s]\u001b[A\n",
      " 30%|██▉       | 21605376/73228310 [00:05<00:09, 5371262.29B/s]\u001b[A\n",
      " 31%|███       | 22735872/73228310 [00:05<00:09, 5385908.86B/s]\u001b[A\n",
      " 33%|███▎      | 23866368/73228310 [00:05<00:08, 5498918.24B/s]\u001b[A\n",
      " 34%|███▍      | 24996864/73228310 [00:05<00:08, 5527759.46B/s]\u001b[A\n",
      " 36%|███▌      | 26143744/73228310 [00:06<00:08, 5571502.73B/s]\u001b[A\n",
      " 37%|███▋      | 27290624/73228310 [00:06<00:08, 5602255.37B/s]\u001b[A\n",
      " 39%|███▉      | 28437504/73228310 [00:06<00:07, 5623215.80B/s]\u001b[A\n",
      " 40%|████      | 29584384/73228310 [00:06<00:07, 5637420.71B/s]\u001b[A\n",
      " 42%|████▏     | 30747648/73228310 [00:06<00:07, 5671423.27B/s]\u001b[A\n",
      " 44%|████▎     | 31894528/73228310 [00:07<00:07, 5673302.89B/s]\u001b[A\n",
      " 45%|████▌     | 33057792/73228310 [00:07<00:07, 5699917.56B/s]\u001b[A\n",
      " 47%|████▋     | 34221056/73228310 [00:07<00:06, 5716397.43B/s]\u001b[A\n",
      " 48%|████▊     | 35384320/73228310 [00:07<00:06, 5728369.44B/s]\u001b[A\n",
      " 50%|████▉     | 36547584/73228310 [00:07<00:06, 5734959.09B/s]\u001b[A\n",
      " 51%|█████▏    | 37710848/73228310 [00:08<00:06, 5743831.60B/s]\u001b[A\n",
      " 53%|█████▎    | 38874112/73228310 [00:08<00:05, 6082414.44B/s]\u001b[A\n",
      " 55%|█████▍    | 40037376/73228310 [00:08<00:05, 6393393.79B/s]\u001b[A\n",
      " 56%|█████▌    | 40685568/73228310 [00:08<00:05, 5918177.11B/s]\u001b[A\n",
      " 56%|█████▋    | 41290752/73228310 [00:08<00:06, 4934675.71B/s]\u001b[A\n",
      " 58%|█████▊    | 42380288/73228310 [00:08<00:05, 5145442.78B/s]\u001b[A\n",
      " 59%|█████▉    | 43543552/73228310 [00:09<00:05, 5362205.37B/s]\u001b[A\n",
      " 61%|██████    | 44706816/73228310 [00:09<00:05, 5474587.14B/s]\u001b[A\n",
      " 63%|██████▎   | 45870080/73228310 [00:09<00:04, 6263387.88B/s]\u001b[A\n",
      " 64%|██████▎   | 46547968/73228310 [00:09<00:04, 5829066.92B/s]\u001b[A\n",
      " 64%|██████▍   | 47173632/73228310 [00:09<00:05, 4920071.76B/s]\u001b[A\n",
      " 66%|██████▌   | 48212992/73228310 [00:09<00:04, 5144571.63B/s]\u001b[A\n",
      " 67%|██████▋   | 49376256/73228310 [00:10<00:04, 5314065.87B/s]\u001b[A\n",
      " 69%|██████▉   | 50539520/73228310 [00:10<00:04, 5488137.84B/s]\u001b[A\n",
      " 71%|███████   | 51702784/73228310 [00:10<00:03, 5565566.76B/s]\u001b[A\n",
      " 72%|███████▏  | 52866048/73228310 [00:10<00:03, 6346076.76B/s]\u001b[A\n",
      " 73%|███████▎  | 53550080/73228310 [00:10<00:03, 5856584.93B/s]\u001b[A\n",
      " 74%|███████▍  | 54177792/73228310 [00:10<00:03, 4888069.82B/s]\u001b[A\n",
      " 75%|███████▌  | 55208960/73228310 [00:11<00:03, 5212600.14B/s]\u001b[A\n",
      " 77%|███████▋  | 56372224/73228310 [00:11<00:02, 6020486.64B/s]\u001b[A\n",
      " 78%|███████▊  | 57052160/73228310 [00:11<00:02, 5532202.53B/s]\u001b[A\n",
      " 79%|███████▉  | 57667584/73228310 [00:11<00:03, 4882597.88B/s]\u001b[A\n",
      " 80%|████████  | 58731520/73228310 [00:11<00:02, 5130763.38B/s]\u001b[A\n",
      " 82%|████████▏ | 59878400/73228310 [00:11<00:02, 5995425.80B/s]\u001b[A\n",
      " 83%|████████▎ | 60564480/73228310 [00:11<00:02, 5527735.51B/s]\u001b[A\n",
      " 84%|████████▎ | 61185024/73228310 [00:12<00:02, 4910654.68B/s]\u001b[A\n",
      " 85%|████████▍ | 62238720/73228310 [00:12<00:01, 5846895.80B/s]\u001b[A\n",
      " 86%|████████▌ | 62941184/73228310 [00:12<00:01, 5487952.23B/s]\u001b[A\n",
      " 87%|████████▋ | 63577088/73228310 [00:12<00:01, 4839619.17B/s]\u001b[A\n",
      " 88%|████████▊ | 64613376/73228310 [00:12<00:01, 5180453.15B/s]\u001b[A\n",
      " 90%|████████▉ | 65793024/73228310 [00:12<00:01, 5993387.42B/s]\u001b[A\n",
      " 91%|█████████ | 66481152/73228310 [00:12<00:01, 5524665.31B/s]\u001b[A\n",
      " 92%|█████████▏| 67102720/73228310 [00:13<00:01, 4939526.96B/s]\u001b[A\n",
      " 93%|█████████▎| 68185088/73228310 [00:13<00:00, 5240616.88B/s]\u001b[A\n",
      " 95%|█████████▍| 69381120/73228310 [00:13<00:00, 6065466.18B/s]\u001b[A\n",
      " 96%|█████████▌| 70069248/73228310 [00:13<00:00, 5533342.85B/s]\u001b[A\n",
      " 97%|█████████▋| 70688768/73228310 [00:13<00:00, 4996879.62B/s]\u001b[A\n",
      " 98%|█████████▊| 71805952/73228310 [00:13<00:00, 5309534.92B/s]\u001b[A\n",
      "100%|██████████| 73228310/73228310 [00:14<00:00, 5167516.53B/s]\u001b[A\n",
      "WARNING:allennlp.nn.initializers:Did not use initialization regex that was passed: .*weight_ih.*\n",
      "WARNING:allennlp.nn.initializers:Did not use initialization regex that was passed: .*weight_hh.*\n",
      "WARNING:allennlp.nn.initializers:Did not use initialization regex that was passed: .*bias_hh.*\n",
      "WARNING:allennlp.nn.initializers:Did not use initialization regex that was passed: .*bias_ih.*\n"
     ]
    }
   ],
   "source": [
    "pos_predictor = Predictor.from_path(\"https://s3-us-west-2.amazonaws.com/allennlp/models/biaffine-dependency-parser-ptb-2018.08.23.tar.gz\")"
   ]
  },
  {
   "cell_type": "code",
   "execution_count": 118,
   "metadata": {
    "scrolled": true
   },
   "outputs": [
    {
     "data": {
      "text/plain": [
       "{'arc_loss': 0.0801580473780632,\n",
       " 'tag_loss': 0.004435896407812834,\n",
       " 'loss': 0.08459394425153732,\n",
       " 'words': ['The',\n",
       "  'new',\n",
       "  'biopharma',\n",
       "  'will',\n",
       "  'focus',\n",
       "  'on',\n",
       "  'diagnosis',\n",
       "  'and',\n",
       "  'treatment',\n",
       "  'of',\n",
       "  'blood',\n",
       "  '-',\n",
       "  'related',\n",
       "  'conditions',\n",
       "  'and',\n",
       "  'chronic',\n",
       "  'diseases',\n",
       "  ';',\n",
       "  'developing',\n",
       "  'new',\n",
       "  'drugs',\n",
       "  'through',\n",
       "  'both',\n",
       "  'acquisitions',\n",
       "  'and',\n",
       "  'collaborations',\n",
       "  ';'],\n",
       " 'pos': ['DT',\n",
       "  'JJ',\n",
       "  'NN',\n",
       "  'MD',\n",
       "  'VB',\n",
       "  'IN',\n",
       "  'NN',\n",
       "  'CC',\n",
       "  'NN',\n",
       "  'IN',\n",
       "  'NN',\n",
       "  'HYPH',\n",
       "  'VBN',\n",
       "  'NNS',\n",
       "  'CC',\n",
       "  'JJ',\n",
       "  'NNS',\n",
       "  ':',\n",
       "  'VBG',\n",
       "  'JJ',\n",
       "  'NNS',\n",
       "  'IN',\n",
       "  'DT',\n",
       "  'NNS',\n",
       "  'CC',\n",
       "  'NNS',\n",
       "  '.'],\n",
       " 'predicted_dependencies': ['det',\n",
       "  'amod',\n",
       "  'nsubj',\n",
       "  'aux',\n",
       "  'root',\n",
       "  'prep',\n",
       "  'pobj',\n",
       "  'cc',\n",
       "  'conj',\n",
       "  'prep',\n",
       "  'pobj',\n",
       "  'punct',\n",
       "  'amod',\n",
       "  'dep',\n",
       "  'cc',\n",
       "  'amod',\n",
       "  'conj',\n",
       "  'punct',\n",
       "  'dep',\n",
       "  'amod',\n",
       "  'dobj',\n",
       "  'prep',\n",
       "  'preconj',\n",
       "  'pobj',\n",
       "  'cc',\n",
       "  'conj',\n",
       "  'punct'],\n",
       " 'predicted_heads': [3,\n",
       "  3,\n",
       "  5,\n",
       "  5,\n",
       "  0,\n",
       "  5,\n",
       "  6,\n",
       "  7,\n",
       "  7,\n",
       "  7,\n",
       "  10,\n",
       "  7,\n",
       "  14,\n",
       "  7,\n",
       "  14,\n",
       "  17,\n",
       "  14,\n",
       "  5,\n",
       "  7,\n",
       "  21,\n",
       "  19,\n",
       "  19,\n",
       "  24,\n",
       "  22,\n",
       "  24,\n",
       "  24,\n",
       "  5],\n",
       " 'hierplane_tree': {'text': 'The new biopharma will focus on diagnosis and treatment of blood - related conditions and chronic diseases ; developing new drugs through both acquisitions and collaborations ;',\n",
       "  'root': {'word': 'focus',\n",
       "   'nodeType': 'root',\n",
       "   'attributes': ['VB'],\n",
       "   'link': 'root',\n",
       "   'spans': [{'start': 23, 'end': 29}],\n",
       "   'children': [{'word': 'biopharma',\n",
       "     'nodeType': 'nsubj',\n",
       "     'attributes': ['NN'],\n",
       "     'link': 'nsubj',\n",
       "     'spans': [{'start': 8, 'end': 18}],\n",
       "     'children': [{'word': 'The',\n",
       "       'nodeType': 'det',\n",
       "       'attributes': ['DT'],\n",
       "       'link': 'det',\n",
       "       'spans': [{'start': 0, 'end': 4}]},\n",
       "      {'word': 'new',\n",
       "       'nodeType': 'amod',\n",
       "       'attributes': ['JJ'],\n",
       "       'link': 'amod',\n",
       "       'spans': [{'start': 4, 'end': 8}]}]},\n",
       "    {'word': 'will',\n",
       "     'nodeType': 'aux',\n",
       "     'attributes': ['MD'],\n",
       "     'link': 'aux',\n",
       "     'spans': [{'start': 18, 'end': 23}]},\n",
       "    {'word': 'on',\n",
       "     'nodeType': 'prep',\n",
       "     'attributes': ['IN'],\n",
       "     'link': 'prep',\n",
       "     'spans': [{'start': 29, 'end': 32}],\n",
       "     'children': [{'word': 'diagnosis',\n",
       "       'nodeType': 'pobj',\n",
       "       'attributes': ['NN'],\n",
       "       'link': 'pobj',\n",
       "       'spans': [{'start': 32, 'end': 42}],\n",
       "       'children': [{'word': 'and',\n",
       "         'nodeType': 'cc',\n",
       "         'attributes': ['CC'],\n",
       "         'link': 'cc',\n",
       "         'spans': [{'start': 42, 'end': 46}]},\n",
       "        {'word': 'treatment',\n",
       "         'nodeType': 'conj',\n",
       "         'attributes': ['NN'],\n",
       "         'link': 'conj',\n",
       "         'spans': [{'start': 46, 'end': 56}]},\n",
       "        {'word': 'of',\n",
       "         'nodeType': 'prep',\n",
       "         'attributes': ['IN'],\n",
       "         'link': 'prep',\n",
       "         'spans': [{'start': 56, 'end': 59}],\n",
       "         'children': [{'word': 'blood',\n",
       "           'nodeType': 'pobj',\n",
       "           'attributes': ['NN'],\n",
       "           'link': 'pobj',\n",
       "           'spans': [{'start': 59, 'end': 65}]}]},\n",
       "        {'word': '-',\n",
       "         'nodeType': 'punct',\n",
       "         'attributes': ['HYPH'],\n",
       "         'link': 'punct',\n",
       "         'spans': [{'start': 65, 'end': 67}]},\n",
       "        {'word': 'conditions',\n",
       "         'nodeType': 'dep',\n",
       "         'attributes': ['NNS'],\n",
       "         'link': 'dep',\n",
       "         'spans': [{'start': 75, 'end': 86}],\n",
       "         'children': [{'word': 'related',\n",
       "           'nodeType': 'amod',\n",
       "           'attributes': ['VBN'],\n",
       "           'link': 'amod',\n",
       "           'spans': [{'start': 67, 'end': 75}]},\n",
       "          {'word': 'and',\n",
       "           'nodeType': 'cc',\n",
       "           'attributes': ['CC'],\n",
       "           'link': 'cc',\n",
       "           'spans': [{'start': 86, 'end': 90}]},\n",
       "          {'word': 'diseases',\n",
       "           'nodeType': 'conj',\n",
       "           'attributes': ['NNS'],\n",
       "           'link': 'conj',\n",
       "           'spans': [{'start': 98, 'end': 107}],\n",
       "           'children': [{'word': 'chronic',\n",
       "             'nodeType': 'amod',\n",
       "             'attributes': ['JJ'],\n",
       "             'link': 'amod',\n",
       "             'spans': [{'start': 90, 'end': 98}]}]}]},\n",
       "        {'word': 'developing',\n",
       "         'nodeType': 'dep',\n",
       "         'attributes': ['VBG'],\n",
       "         'link': 'dep',\n",
       "         'spans': [{'start': 109, 'end': 120}],\n",
       "         'children': [{'word': 'drugs',\n",
       "           'nodeType': 'dobj',\n",
       "           'attributes': ['NNS'],\n",
       "           'link': 'dobj',\n",
       "           'spans': [{'start': 124, 'end': 130}],\n",
       "           'children': [{'word': 'new',\n",
       "             'nodeType': 'amod',\n",
       "             'attributes': ['JJ'],\n",
       "             'link': 'amod',\n",
       "             'spans': [{'start': 120, 'end': 124}]}]},\n",
       "          {'word': 'through',\n",
       "           'nodeType': 'prep',\n",
       "           'attributes': ['IN'],\n",
       "           'link': 'prep',\n",
       "           'spans': [{'start': 130, 'end': 138}],\n",
       "           'children': [{'word': 'acquisitions',\n",
       "             'nodeType': 'pobj',\n",
       "             'attributes': ['NNS'],\n",
       "             'link': 'pobj',\n",
       "             'spans': [{'start': 143, 'end': 156}],\n",
       "             'children': [{'word': 'both',\n",
       "               'nodeType': 'preconj',\n",
       "               'attributes': ['DT'],\n",
       "               'link': 'preconj',\n",
       "               'spans': [{'start': 138, 'end': 143}]},\n",
       "              {'word': 'and',\n",
       "               'nodeType': 'cc',\n",
       "               'attributes': ['CC'],\n",
       "               'link': 'cc',\n",
       "               'spans': [{'start': 156, 'end': 160}]},\n",
       "              {'word': 'collaborations',\n",
       "               'nodeType': 'conj',\n",
       "               'attributes': ['NNS'],\n",
       "               'link': 'conj',\n",
       "               'spans': [{'start': 160, 'end': 175}]}]}]}]}]}]},\n",
       "    {'word': ';',\n",
       "     'nodeType': 'punct',\n",
       "     'attributes': [':'],\n",
       "     'link': 'punct',\n",
       "     'spans': [{'start': 107, 'end': 109}]},\n",
       "    {'word': ';',\n",
       "     'nodeType': 'punct',\n",
       "     'attributes': ['.'],\n",
       "     'link': 'punct',\n",
       "     'spans': [{'start': 175, 'end': 177}]}]},\n",
       "  'nodeTypeToStyle': {'root': ['color5', 'strong'],\n",
       "   'dep': ['color5', 'strong'],\n",
       "   'nsubj': ['color1'],\n",
       "   'nsubjpass': ['color1'],\n",
       "   'csubj': ['color1'],\n",
       "   'csubjpass': ['color1'],\n",
       "   'pobj': ['color2'],\n",
       "   'dobj': ['color2'],\n",
       "   'iobj': ['color2'],\n",
       "   'mark': ['color2'],\n",
       "   'pcomp': ['color2'],\n",
       "   'xcomp': ['color2'],\n",
       "   'ccomp': ['color2'],\n",
       "   'acomp': ['color2'],\n",
       "   'aux': ['color3'],\n",
       "   'cop': ['color3'],\n",
       "   'det': ['color3'],\n",
       "   'conj': ['color3'],\n",
       "   'cc': ['color3'],\n",
       "   'prep': ['color3'],\n",
       "   'number': ['color3'],\n",
       "   'possesive': ['color3'],\n",
       "   'poss': ['color3'],\n",
       "   'discourse': ['color3'],\n",
       "   'expletive': ['color3'],\n",
       "   'prt': ['color3'],\n",
       "   'advcl': ['color3'],\n",
       "   'mod': ['color4'],\n",
       "   'amod': ['color4'],\n",
       "   'tmod': ['color4'],\n",
       "   'quantmod': ['color4'],\n",
       "   'npadvmod': ['color4'],\n",
       "   'infmod': ['color4'],\n",
       "   'advmod': ['color4'],\n",
       "   'appos': ['color4'],\n",
       "   'nn': ['color4'],\n",
       "   'neg': ['color0'],\n",
       "   'punct': ['color0']},\n",
       "  'linkToPosition': {'nsubj': 'left',\n",
       "   'nsubjpass': 'left',\n",
       "   'csubj': 'left',\n",
       "   'csubjpass': 'left',\n",
       "   'pobj': 'right',\n",
       "   'dobj': 'right',\n",
       "   'iobj': 'right',\n",
       "   'pcomp': 'right',\n",
       "   'xcomp': 'right',\n",
       "   'ccomp': 'right',\n",
       "   'acomp': 'right'}}}"
      ]
     },
     "execution_count": 118,
     "metadata": {},
     "output_type": "execute_result"
    }
   ],
   "source": [
    "preds"
   ]
  },
  {
   "cell_type": "code",
   "execution_count": null,
   "metadata": {},
   "outputs": [],
   "source": [
    "preds = pos_predictor.predict('The new biopharma will focus on diagnosis and treatment of blood-related conditions and chronic diseases; developing new drugs through both acquisitions and collaborations;') \n",
    "tags = preds['pos']\n",
    "words = preds['words']\n",
    "list(zip(words, tags))"
   ]
  },
  {
   "cell_type": "markdown",
   "metadata": {},
   "source": [
    "## Experiment \\#3: Separate the embeddings\n",
    "\n",
    "Do margin the contextual embeddings of the pivoting tokens of distinct topics: \n",
    "\n",
    "either using the triplet marginalization, or following the objective of 1/0 distance of same/different topic embeddings"
   ]
  },
  {
   "cell_type": "code",
   "execution_count": 5,
   "metadata": {},
   "outputs": [],
   "source": [
    "from allennlp.predictors import Predictor\n",
    "import json\n",
    "\n",
    "class SRLPredictor():\n",
    "    def __init__(self, SRL_MODEL_PATH, use_cuda=False):\n",
    "        # use the model from allennlp for simlicity.\n",
    "        self.predictor = Predictor.from_path(SRL_MODEL_PATH)\n",
    "        if use_cuda:\n",
    "            self.predictor._model = self.predictor._model.cuda()  # this can only support GPU computation\n",
    "\n",
    "    def predict(self, sent):\n",
    "        return self.predictor.predict(sentence=sent)\n",
    "\n",
    "srl_predictor = SRLPredictor(\"/home/xstefan3/bert_experiments/pytorch/cc/semantic-role-labeling/SemBERT/models/srl_model_dir\")\n",
    "    \n",
    "def get_tags(tok_text):\n",
    "    tag_vocab = []\n",
    "    srl_result = srl_predictor.predict(tok_text)\n",
    "    sen_verbs = srl_result['verbs']\n",
    "    sen_words = srl_result['words']\n",
    "\n",
    "    sent_tags = []\n",
    "    if len(sen_verbs) == 0:\n",
    "        sent_tags = [[\"O\"] * len(sen_words)]\n",
    "    else:\n",
    "        for ix, verb_tag in enumerate(sen_verbs):\n",
    "            sent_tag = sen_verbs[ix]['tags']\n",
    "            for tag in sent_tag:\n",
    "                if tag not in tag_vocab:\n",
    "                    tag_vocab.append(tag)\n",
    "            sent_tags.append(sent_tag)\n",
    "\n",
    "    return sen_words, sent_tags"
   ]
  },
  {
   "cell_type": "code",
   "execution_count": 40,
   "metadata": {},
   "outputs": [],
   "source": [
    "sents_df[\"val_frame\"] = sents_df[\"sentence\"].apply(srl_predictor.predict)"
   ]
  },
  {
   "cell_type": "code",
   "execution_count": 91,
   "metadata": {
    "scrolled": true
   },
   "outputs": [
    {
     "data": {
      "text/plain": [
       "{'verbs': [{'verb': 'will',\n",
       "   'description': 'The new biopharma [V: will] focus on diagnosis and treatment of blood - related conditions and chronic diseases ; developing new drugs through both acquisitions and collaborations ; and building a product pipeline focused on effective new treatments for unmet medical needs .',\n",
       "   'tags': ['O',\n",
       "    'O',\n",
       "    'O',\n",
       "    'B-V',\n",
       "    'O',\n",
       "    'O',\n",
       "    'O',\n",
       "    'O',\n",
       "    'O',\n",
       "    'O',\n",
       "    'O',\n",
       "    'O',\n",
       "    'O',\n",
       "    'O',\n",
       "    'O',\n",
       "    'O',\n",
       "    'O',\n",
       "    'O',\n",
       "    'O',\n",
       "    'O',\n",
       "    'O',\n",
       "    'O',\n",
       "    'O',\n",
       "    'O',\n",
       "    'O',\n",
       "    'O',\n",
       "    'O',\n",
       "    'O',\n",
       "    'O',\n",
       "    'O',\n",
       "    'O',\n",
       "    'O',\n",
       "    'O',\n",
       "    'O',\n",
       "    'O',\n",
       "    'O',\n",
       "    'O',\n",
       "    'O',\n",
       "    'O',\n",
       "    'O',\n",
       "    'O',\n",
       "    'O']},\n",
       "  {'verb': 'focus',\n",
       "   'description': '[ARG0: The new biopharma] [ARGM-MOD: will] [V: focus] [ARG2: on diagnosis and treatment of blood - related conditions and chronic diseases] ; developing new drugs through both acquisitions and collaborations ; and building a product pipeline focused on effective new treatments for unmet medical needs .',\n",
       "   'tags': ['B-ARG0',\n",
       "    'I-ARG0',\n",
       "    'I-ARG0',\n",
       "    'B-ARGM-MOD',\n",
       "    'B-V',\n",
       "    'B-ARG2',\n",
       "    'I-ARG2',\n",
       "    'I-ARG2',\n",
       "    'I-ARG2',\n",
       "    'I-ARG2',\n",
       "    'I-ARG2',\n",
       "    'I-ARG2',\n",
       "    'I-ARG2',\n",
       "    'I-ARG2',\n",
       "    'I-ARG2',\n",
       "    'I-ARG2',\n",
       "    'I-ARG2',\n",
       "    'O',\n",
       "    'O',\n",
       "    'O',\n",
       "    'O',\n",
       "    'O',\n",
       "    'O',\n",
       "    'O',\n",
       "    'O',\n",
       "    'O',\n",
       "    'O',\n",
       "    'O',\n",
       "    'O',\n",
       "    'O',\n",
       "    'O',\n",
       "    'O',\n",
       "    'O',\n",
       "    'O',\n",
       "    'O',\n",
       "    'O',\n",
       "    'O',\n",
       "    'O',\n",
       "    'O',\n",
       "    'O',\n",
       "    'O',\n",
       "    'O']},\n",
       "  {'verb': 'related',\n",
       "   'description': 'The new biopharma will focus on diagnosis and treatment of [ARG2: blood] - [V: related] [ARG1: conditions] and chronic diseases ; developing new drugs through both acquisitions and collaborations ; and building a product pipeline focused on effective new treatments for unmet medical needs .',\n",
       "   'tags': ['O',\n",
       "    'O',\n",
       "    'O',\n",
       "    'O',\n",
       "    'O',\n",
       "    'O',\n",
       "    'O',\n",
       "    'O',\n",
       "    'O',\n",
       "    'O',\n",
       "    'B-ARG2',\n",
       "    'O',\n",
       "    'B-V',\n",
       "    'B-ARG1',\n",
       "    'O',\n",
       "    'O',\n",
       "    'O',\n",
       "    'O',\n",
       "    'O',\n",
       "    'O',\n",
       "    'O',\n",
       "    'O',\n",
       "    'O',\n",
       "    'O',\n",
       "    'O',\n",
       "    'O',\n",
       "    'O',\n",
       "    'O',\n",
       "    'O',\n",
       "    'O',\n",
       "    'O',\n",
       "    'O',\n",
       "    'O',\n",
       "    'O',\n",
       "    'O',\n",
       "    'O',\n",
       "    'O',\n",
       "    'O',\n",
       "    'O',\n",
       "    'O',\n",
       "    'O',\n",
       "    'O']},\n",
       "  {'verb': 'developing',\n",
       "   'description': '[ARG0: The new biopharma] will focus on diagnosis and treatment of blood - related conditions and chronic diseases ; [V: developing] [ARG1: new drugs] [ARGM-MNR: through both acquisitions and collaborations] ; and building a product pipeline focused on effective new treatments for unmet medical needs .',\n",
       "   'tags': ['B-ARG0',\n",
       "    'I-ARG0',\n",
       "    'I-ARG0',\n",
       "    'O',\n",
       "    'O',\n",
       "    'O',\n",
       "    'O',\n",
       "    'O',\n",
       "    'O',\n",
       "    'O',\n",
       "    'O',\n",
       "    'O',\n",
       "    'O',\n",
       "    'O',\n",
       "    'O',\n",
       "    'O',\n",
       "    'O',\n",
       "    'O',\n",
       "    'B-V',\n",
       "    'B-ARG1',\n",
       "    'I-ARG1',\n",
       "    'B-ARGM-MNR',\n",
       "    'I-ARGM-MNR',\n",
       "    'I-ARGM-MNR',\n",
       "    'I-ARGM-MNR',\n",
       "    'I-ARGM-MNR',\n",
       "    'O',\n",
       "    'O',\n",
       "    'O',\n",
       "    'O',\n",
       "    'O',\n",
       "    'O',\n",
       "    'O',\n",
       "    'O',\n",
       "    'O',\n",
       "    'O',\n",
       "    'O',\n",
       "    'O',\n",
       "    'O',\n",
       "    'O',\n",
       "    'O',\n",
       "    'O']},\n",
       "  {'verb': 'building',\n",
       "   'description': '[ARG0: The new biopharma] will focus on diagnosis and treatment of blood - related conditions and chronic diseases ; developing new drugs through both acquisitions and collaborations ; and [V: building] [ARG1: a product pipeline focused on effective new treatments for unmet medical needs] .',\n",
       "   'tags': ['B-ARG0',\n",
       "    'I-ARG0',\n",
       "    'I-ARG0',\n",
       "    'O',\n",
       "    'O',\n",
       "    'O',\n",
       "    'O',\n",
       "    'O',\n",
       "    'O',\n",
       "    'O',\n",
       "    'O',\n",
       "    'O',\n",
       "    'O',\n",
       "    'O',\n",
       "    'O',\n",
       "    'O',\n",
       "    'O',\n",
       "    'O',\n",
       "    'O',\n",
       "    'O',\n",
       "    'O',\n",
       "    'O',\n",
       "    'O',\n",
       "    'O',\n",
       "    'O',\n",
       "    'O',\n",
       "    'O',\n",
       "    'O',\n",
       "    'B-V',\n",
       "    'B-ARG1',\n",
       "    'I-ARG1',\n",
       "    'I-ARG1',\n",
       "    'I-ARG1',\n",
       "    'I-ARG1',\n",
       "    'I-ARG1',\n",
       "    'I-ARG1',\n",
       "    'I-ARG1',\n",
       "    'I-ARG1',\n",
       "    'I-ARG1',\n",
       "    'I-ARG1',\n",
       "    'I-ARG1',\n",
       "    'O']},\n",
       "  {'verb': 'focused',\n",
       "   'description': 'The new biopharma will focus on diagnosis and treatment of blood - related conditions and chronic diseases ; developing new drugs through both acquisitions and collaborations ; and building [ARG1: a product pipeline] [V: focused] [ARG2: on effective new treatments for unmet medical needs] .',\n",
       "   'tags': ['O',\n",
       "    'O',\n",
       "    'O',\n",
       "    'O',\n",
       "    'O',\n",
       "    'O',\n",
       "    'O',\n",
       "    'O',\n",
       "    'O',\n",
       "    'O',\n",
       "    'O',\n",
       "    'O',\n",
       "    'O',\n",
       "    'O',\n",
       "    'O',\n",
       "    'O',\n",
       "    'O',\n",
       "    'O',\n",
       "    'O',\n",
       "    'O',\n",
       "    'O',\n",
       "    'O',\n",
       "    'O',\n",
       "    'O',\n",
       "    'O',\n",
       "    'O',\n",
       "    'O',\n",
       "    'O',\n",
       "    'O',\n",
       "    'B-ARG1',\n",
       "    'I-ARG1',\n",
       "    'I-ARG1',\n",
       "    'B-V',\n",
       "    'B-ARG2',\n",
       "    'I-ARG2',\n",
       "    'I-ARG2',\n",
       "    'I-ARG2',\n",
       "    'I-ARG2',\n",
       "    'I-ARG2',\n",
       "    'I-ARG2',\n",
       "    'I-ARG2',\n",
       "    'O']}],\n",
       " 'words': ['The',\n",
       "  'new',\n",
       "  'biopharma',\n",
       "  'will',\n",
       "  'focus',\n",
       "  'on',\n",
       "  'diagnosis',\n",
       "  'and',\n",
       "  'treatment',\n",
       "  'of',\n",
       "  'blood',\n",
       "  '-',\n",
       "  'related',\n",
       "  'conditions',\n",
       "  'and',\n",
       "  'chronic',\n",
       "  'diseases',\n",
       "  ';',\n",
       "  'developing',\n",
       "  'new',\n",
       "  'drugs',\n",
       "  'through',\n",
       "  'both',\n",
       "  'acquisitions',\n",
       "  'and',\n",
       "  'collaborations',\n",
       "  ';',\n",
       "  'and',\n",
       "  'building',\n",
       "  'a',\n",
       "  'product',\n",
       "  'pipeline',\n",
       "  'focused',\n",
       "  'on',\n",
       "  'effective',\n",
       "  'new',\n",
       "  'treatments',\n",
       "  'for',\n",
       "  'unmet',\n",
       "  'medical',\n",
       "  'needs',\n",
       "  '.']}"
      ]
     },
     "execution_count": 91,
     "metadata": {},
     "output_type": "execute_result"
    }
   ],
   "source": [
    "sents_df[\"val_frame\"].iloc[1]"
   ]
  }
 ],
 "metadata": {
  "kernelspec": {
   "display_name": "Python 3",
   "language": "python",
   "name": "python3"
  },
  "language_info": {
   "codemirror_mode": {
    "name": "ipython",
    "version": 3
   },
   "file_extension": ".py",
   "mimetype": "text/x-python",
   "name": "python",
   "nbconvert_exporter": "python",
   "pygments_lexer": "ipython3",
   "version": "3.7.3"
  }
 },
 "nbformat": 4,
 "nbformat_minor": 4
}
